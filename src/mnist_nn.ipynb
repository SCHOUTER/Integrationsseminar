{
 "cells": [
  {
   "cell_type": "code",
   "execution_count": 2,
   "metadata": {},
   "outputs": [],
   "source": [
    "import numpy as np\n",
    "import pandas as pd\n",
    "from matplotlib import pyplot as plt\n",
    "from PIL import Image\n",
    "\n",
    "data = pd.read_csv('../data/train.csv')"
   ]
  },
  {
   "cell_type": "markdown",
   "metadata": {},
   "source": [
    "Import relevant libraries and read data"
   ]
  },
  {
   "cell_type": "code",
   "execution_count": 3,
   "metadata": {},
   "outputs": [],
   "source": [
    "data = np.array(data)\n",
    "m, n = data.shape\n",
    "np.random.shuffle(data) # shuffle before splitting into dev and training sets"
   ]
  },
  {
   "cell_type": "markdown",
   "metadata": {},
   "source": [
    "Convert dataset in to numpy array. Then shuffle the data to ensure randomness for training"
   ]
  },
  {
   "cell_type": "code",
   "execution_count": 4,
   "metadata": {},
   "outputs": [],
   "source": [
    "data_dev = data[0:1000].T\n",
    "Y_dev = data_dev[0]\n",
    "X_dev = data_dev[1:n]\n",
    "X_dev = X_dev / 255.\n",
    "\n",
    "data_train = data[1000:m].T\n",
    "Y_train = data_train[0]\n",
    "X_train = data_train[1:n]\n",
    "X_train = X_train / 255. # feature normalization\n",
    "_,m_train = X_train.shape"
   ]
  },
  {
   "cell_type": "markdown",
   "metadata": {},
   "source": [
    "Here, the dataset is split into a development (dev) set and a training set. The data is also transposed to fit the neural network's expected input shape. Finally, pixel values are normalized by dividing by 255, making them range between 0 and 1. This normalization is essential for training stability and faster convergence."
   ]
  },
  {
   "cell_type": "code",
   "execution_count": 5,
   "metadata": {},
   "outputs": [
    {
     "data": {
      "text/plain": [
       "array([7, 1, 9, ..., 1, 6, 9], dtype=int64)"
      ]
     },
     "execution_count": 5,
     "metadata": {},
     "output_type": "execute_result"
    }
   ],
   "source": [
    "Y_train"
   ]
  },
  {
   "cell_type": "code",
   "execution_count": 6,
   "metadata": {},
   "outputs": [],
   "source": [
    "def init_params():\n",
    "    W1 = np.random.rand(10, 784) - 0.5\n",
    "    b1 = np.random.rand(10, 1) - 0.5\n",
    "    W2 = np.random.rand(10, 10) - 0.5\n",
    "    b2 = np.random.rand(10, 1) - 0.5\n",
    "    return W1, b1, W2, b2"
   ]
  },
  {
   "cell_type": "markdown",
   "metadata": {},
   "source": [
    "This function initializes the weights (W1, W2) and biases (b1, b2) of our neural network. Initialization is important as it affects the starting point of our optimization."
   ]
  },
  {
   "cell_type": "code",
   "execution_count": 7,
   "metadata": {},
   "outputs": [],
   "source": [
    "def ReLU(Z):\n",
    "    return np.maximum(Z, 0)\n",
    "\n",
    "def softmax(Z):\n",
    "    A = np.exp(Z) / sum(np.exp(Z))\n",
    "    return A"
   ]
  },
  {
   "cell_type": "markdown",
   "metadata": {},
   "source": [
    "These are activation functions:\n",
    "\n",
    "    - ReLU (Rectified Linear Unit) is a commonly used activation function for hidden layers. It's computationally efficient and helps tackle vanishing gradient problems.\n",
    "\n",
    "    - softmax is used in the output layer for multi-class classification problems. It converts raw score outputs into probabilities for each class."
   ]
  },
  {
   "cell_type": "code",
   "execution_count": 8,
   "metadata": {},
   "outputs": [],
   "source": [
    "def forward_prop(W1, b1, W2, b2, X):\n",
    "    Z1 = W1.dot(X) + b1\n",
    "    A1 = ReLU(Z1)\n",
    "    Z2 = W2.dot(A1) + b2\n",
    "    A2 = softmax(Z2)\n",
    "    return Z1, A1, Z2, A2"
   ]
  },
  {
   "cell_type": "markdown",
   "metadata": {},
   "source": [
    "This function computes the forward pass of the network. Given an input X, it calculates intermediate values (Z1, A1, Z2) and the final output A2. This is where our network makes its predictions based on its current weights and biases."
   ]
  },
  {
   "cell_type": "code",
   "execution_count": 9,
   "metadata": {},
   "outputs": [],
   "source": [
    "def ReLU_deriv(Z):\n",
    "    return Z > 0\n",
    "\n",
    "def one_hot(Y):\n",
    "    one_hot_Y = np.zeros((Y.size, Y.max() + 1))\n",
    "    one_hot_Y[np.arange(Y.size), Y] = 1\n",
    "    one_hot_Y = one_hot_Y.T\n",
    "    return one_hot_Y"
   ]
  },
  {
   "cell_type": "code",
   "execution_count": 10,
   "metadata": {},
   "outputs": [],
   "source": [
    "def backward_prop(Z1, A1, Z2, A2, W1, W2, X, Y, m):\n",
    "    one_hot_Y = one_hot(Y)\n",
    "    dZ2 = A2 - one_hot_Y\n",
    "    dW2 = 1 / m * dZ2.dot(A1.T)\n",
    "    db2 = 1 / m * np.sum(dZ2)\n",
    "    dZ1 = W2.T.dot(dZ2) * ReLU_deriv(Z1)\n",
    "    dW1 = 1 / m * dZ1.dot(X.T)\n",
    "    db1 = 1 / m * np.sum(dZ1)\n",
    "    return dW1, db1, dW2, db2"
   ]
  },
  {
   "cell_type": "markdown",
   "metadata": {},
   "source": [
    "Backward propagation calculates how much each weight and bias contributed to the error. The returned values (dW1, db1, dW2, db2) represent gradients, showing the direction and magnitude of changes needed to reduce the error."
   ]
  },
  {
   "cell_type": "code",
   "execution_count": 11,
   "metadata": {},
   "outputs": [],
   "source": [
    "def update_params(W1, b1, W2, b2, dW1, db1, dW2, db2, alpha):\n",
    "    W1 = W1 - alpha * dW1\n",
    "    b1 = b1 - alpha * db1    \n",
    "    W2 = W2 - alpha * dW2  \n",
    "    b2 = b2 - alpha * db2    \n",
    "    return W1, b1, W2, b2"
   ]
  },
  {
   "cell_type": "markdown",
   "metadata": {},
   "source": [
    "This function updates the network's weights and biases in the direction of the negative gradient. This iterative process helps the network learn from its mistakes. alpha is the learning rate, which determines the step size of each update."
   ]
  },
  {
   "cell_type": "code",
   "execution_count": 12,
   "metadata": {},
   "outputs": [],
   "source": [
    "def get_predictions(A2):\n",
    "    return np.argmax(A2, 0)\n",
    "\n",
    "def get_accuracy(predictions, Y):\n",
    "    print(predictions, Y)\n",
    "    return np.sum(predictions == Y) / Y.size"
   ]
  },
  {
   "cell_type": "code",
   "execution_count": 13,
   "metadata": {},
   "outputs": [],
   "source": [
    "def gradient_descent(X, Y, alpha, iterations):\n",
    "    W1, b1, W2, b2 = init_params()\n",
    "    for i in range(iterations):\n",
    "        Z1, A1, Z2, A2 = forward_prop(W1, b1, W2, b2, X)\n",
    "        dW1, db1, dW2, db2 = backward_prop(Z1, A1, Z2, A2, W1, W2, X, Y, m_train)\n",
    "        W1, b1, W2, b2 = update_params(W1, b1, W2, b2, dW1, db1, dW2, db2, alpha)\n",
    "        if i % 10 == 0:\n",
    "            print(\"Iteration: \", i)\n",
    "            predictions = get_predictions(A2)\n",
    "            print(get_accuracy(predictions, Y))\n",
    "    return W1, b1, W2, b2"
   ]
  },
  {
   "cell_type": "markdown",
   "metadata": {},
   "source": [
    "This function is the training loop. It combines forward propagation, backward propagation, and the update step for a specified number of iterations. As the network trains, it prints out its accuracy on the training data every 10 iterations."
   ]
  },
  {
   "cell_type": "code",
   "execution_count": 14,
   "metadata": {},
   "outputs": [
    {
     "name": "stdout",
     "output_type": "stream",
     "text": [
      "Iteration:  0\n",
      "[7 3 7 ... 0 7 6] [7 1 9 ... 1 6 9]\n",
      "0.056\n"
     ]
    },
    {
     "name": "stdout",
     "output_type": "stream",
     "text": [
      "Iteration:  10\n",
      "[1 8 7 ... 8 0 3] [7 1 9 ... 1 6 9]\n",
      "0.13717073170731708\n",
      "Iteration:  20\n",
      "[1 8 7 ... 2 6 0] [7 1 9 ... 1 6 9]\n",
      "0.23985365853658536\n",
      "Iteration:  30\n",
      "[1 1 7 ... 1 6 0] [7 1 9 ... 1 6 9]\n",
      "0.3048292682926829\n",
      "Iteration:  40\n",
      "[1 1 3 ... 1 6 0] [7 1 9 ... 1 6 9]\n",
      "0.3564634146341463\n",
      "Iteration:  50\n",
      "[1 1 3 ... 1 6 0] [7 1 9 ... 1 6 9]\n",
      "0.406390243902439\n",
      "Iteration:  60\n",
      "[1 1 3 ... 1 6 0] [7 1 9 ... 1 6 9]\n",
      "0.4501951219512195\n",
      "Iteration:  70\n",
      "[1 1 3 ... 1 6 0] [7 1 9 ... 1 6 9]\n",
      "0.4877560975609756\n",
      "Iteration:  80\n",
      "[1 1 3 ... 1 6 0] [7 1 9 ... 1 6 9]\n",
      "0.5236585365853659\n",
      "Iteration:  90\n",
      "[1 1 5 ... 1 6 0] [7 1 9 ... 1 6 9]\n",
      "0.5550731707317074\n",
      "Iteration:  100\n",
      "[1 1 8 ... 1 6 7] [7 1 9 ... 1 6 9]\n",
      "0.5809756097560975\n",
      "Iteration:  110\n",
      "[1 1 8 ... 1 6 7] [7 1 9 ... 1 6 9]\n",
      "0.605\n",
      "Iteration:  120\n",
      "[1 1 9 ... 1 6 4] [7 1 9 ... 1 6 9]\n",
      "0.6255609756097561\n",
      "Iteration:  130\n",
      "[1 1 9 ... 1 6 4] [7 1 9 ... 1 6 9]\n",
      "0.6448048780487805\n",
      "Iteration:  140\n",
      "[1 1 9 ... 1 6 4] [7 1 9 ... 1 6 9]\n",
      "0.662\n",
      "Iteration:  150\n",
      "[1 1 9 ... 1 6 4] [7 1 9 ... 1 6 9]\n",
      "0.6770243902439025\n",
      "Iteration:  160\n",
      "[1 1 9 ... 1 6 4] [7 1 9 ... 1 6 9]\n",
      "0.6890243902439024\n",
      "Iteration:  170\n",
      "[1 1 9 ... 1 6 4] [7 1 9 ... 1 6 9]\n",
      "0.7005365853658536\n",
      "Iteration:  180\n",
      "[1 1 9 ... 1 6 4] [7 1 9 ... 1 6 9]\n",
      "0.7115365853658536\n",
      "Iteration:  190\n",
      "[1 1 9 ... 1 6 4] [7 1 9 ... 1 6 9]\n",
      "0.7215853658536585\n",
      "Iteration:  200\n",
      "[1 1 9 ... 1 6 4] [7 1 9 ... 1 6 9]\n",
      "0.7302926829268293\n",
      "Iteration:  210\n",
      "[1 1 9 ... 1 6 4] [7 1 9 ... 1 6 9]\n",
      "0.7377317073170732\n",
      "Iteration:  220\n",
      "[1 1 9 ... 1 6 4] [7 1 9 ... 1 6 9]\n",
      "0.7451219512195122\n",
      "Iteration:  230\n",
      "[1 1 9 ... 1 6 9] [7 1 9 ... 1 6 9]\n",
      "0.7515853658536585\n",
      "Iteration:  240\n",
      "[1 1 9 ... 1 6 9] [7 1 9 ... 1 6 9]\n",
      "0.7575609756097561\n",
      "Iteration:  250\n",
      "[1 1 9 ... 1 6 9] [7 1 9 ... 1 6 9]\n",
      "0.764\n",
      "Iteration:  260\n",
      "[1 1 9 ... 1 6 9] [7 1 9 ... 1 6 9]\n",
      "0.7697804878048781\n",
      "Iteration:  270\n",
      "[1 1 9 ... 1 6 9] [7 1 9 ... 1 6 9]\n",
      "0.7738048780487805\n",
      "Iteration:  280\n",
      "[1 1 9 ... 1 6 9] [7 1 9 ... 1 6 9]\n",
      "0.7790975609756098\n",
      "Iteration:  290\n",
      "[1 1 9 ... 1 6 9] [7 1 9 ... 1 6 9]\n",
      "0.7836341463414634\n",
      "Iteration:  300\n",
      "[1 1 9 ... 1 6 9] [7 1 9 ... 1 6 9]\n",
      "0.7877804878048781\n",
      "Iteration:  310\n",
      "[1 1 9 ... 1 6 9] [7 1 9 ... 1 6 9]\n",
      "0.7917073170731708\n",
      "Iteration:  320\n",
      "[1 1 9 ... 1 6 9] [7 1 9 ... 1 6 9]\n",
      "0.7954390243902439\n",
      "Iteration:  330\n",
      "[1 1 9 ... 1 6 9] [7 1 9 ... 1 6 9]\n",
      "0.7990243902439025\n",
      "Iteration:  340\n",
      "[1 1 9 ... 1 6 9] [7 1 9 ... 1 6 9]\n",
      "0.8024146341463415\n",
      "Iteration:  350\n",
      "[1 1 9 ... 1 6 9] [7 1 9 ... 1 6 9]\n",
      "0.8057073170731708\n",
      "Iteration:  360\n",
      "[1 1 9 ... 1 6 9] [7 1 9 ... 1 6 9]\n",
      "0.8086585365853659\n",
      "Iteration:  370\n",
      "[1 1 9 ... 1 6 9] [7 1 9 ... 1 6 9]\n",
      "0.8119756097560976\n",
      "Iteration:  380\n",
      "[1 1 9 ... 1 6 9] [7 1 9 ... 1 6 9]\n",
      "0.814560975609756\n",
      "Iteration:  390\n",
      "[1 1 9 ... 1 6 9] [7 1 9 ... 1 6 9]\n",
      "0.8173414634146341\n",
      "Iteration:  400\n",
      "[1 1 9 ... 1 6 9] [7 1 9 ... 1 6 9]\n",
      "0.8200487804878048\n",
      "Iteration:  410\n",
      "[1 1 9 ... 1 6 9] [7 1 9 ... 1 6 9]\n",
      "0.8221951219512195\n",
      "Iteration:  420\n",
      "[1 1 9 ... 1 6 9] [7 1 9 ... 1 6 9]\n",
      "0.8240975609756097\n",
      "Iteration:  430\n",
      "[1 1 9 ... 1 6 9] [7 1 9 ... 1 6 9]\n",
      "0.8260487804878048\n",
      "Iteration:  440\n",
      "[1 1 9 ... 1 6 9] [7 1 9 ... 1 6 9]\n",
      "0.8275365853658536\n",
      "Iteration:  450\n",
      "[1 1 9 ... 1 6 9] [7 1 9 ... 1 6 9]\n",
      "0.8289268292682926\n",
      "Iteration:  460\n",
      "[1 1 9 ... 1 6 9] [7 1 9 ... 1 6 9]\n",
      "0.8308536585365853\n",
      "Iteration:  470\n",
      "[1 1 9 ... 1 6 9] [7 1 9 ... 1 6 9]\n",
      "0.832390243902439\n",
      "Iteration:  480\n",
      "[1 1 9 ... 1 6 9] [7 1 9 ... 1 6 9]\n",
      "0.834170731707317\n",
      "Iteration:  490\n",
      "[1 1 9 ... 1 6 9] [7 1 9 ... 1 6 9]\n",
      "0.8358048780487805\n"
     ]
    }
   ],
   "source": [
    "W1, b1, W2, b2 = gradient_descent(X_train, Y_train, 0.10, 500)"
   ]
  },
  {
   "cell_type": "code",
   "execution_count": 15,
   "metadata": {},
   "outputs": [],
   "source": [
    "def make_predictions(X, W1, b1, W2, b2):\n",
    "    _, _, _, A2 = forward_prop(W1, b1, W2, b2, X)\n",
    "    predictions = get_predictions(A2)\n",
    "    return predictions\n",
    "\n",
    "def test_prediction(index, W1, b1, W2, b2):\n",
    "    current_image = X_train[:, index, None]\n",
    "    prediction = make_predictions(X_train[:, index, None], W1, b1, W2, b2)\n",
    "    label = Y_train[index]\n",
    "    print(\"Prediction: \", prediction)\n",
    "    print(\"Label: \", label)\n",
    "    \n",
    "    current_image = current_image.reshape((28, 28)) * 255\n",
    "    plt.gray()\n",
    "    plt.imshow(current_image, interpolation='nearest')\n",
    "    plt.show()"
   ]
  },
  {
   "cell_type": "code",
   "execution_count": 16,
   "metadata": {},
   "outputs": [
    {
     "name": "stdout",
     "output_type": "stream",
     "text": [
      "Prediction:  [1]\n",
      "Label:  7\n"
     ]
    },
    {
     "data": {
      "image/png": "[encoded data removed]",
      "text/plain": [
       "<Figure size 640x480 with 1 Axes>"
      ]
     },
     "metadata": {},
     "output_type": "display_data"
    },
    {
     "name": "stdout",
     "output_type": "stream",
     "text": [
      "Prediction:  [1]\n",
      "Label:  1\n"
     ]
    },
    {
     "data": {
      "image/png": "[encoded data removed]",
      "text/plain": [
       "<Figure size 640x480 with 1 Axes>"
      ]
     },
     "metadata": {},
     "output_type": "display_data"
    },
    {
     "name": "stdout",
     "output_type": "stream",
     "text": [
      "Prediction:  [9]\n",
      "Label:  9\n"
     ]
    },
    {
     "data": {
      "image/png": "[encoded data removed]",
      "text/plain": [
       "<Figure size 640x480 with 1 Axes>"
      ]
     },
     "metadata": {},
     "output_type": "display_data"
    },
    {
     "name": "stdout",
     "output_type": "stream",
     "text": [
      "Prediction:  [9]\n",
      "Label:  9\n"
     ]
    },
    {
     "data": {
      "image/png": "[encoded data removed]",
      "text/plain": [
       "<Figure size 640x480 with 1 Axes>"
      ]
     },
     "metadata": {},
     "output_type": "display_data"
    }
   ],
   "source": [
    "test_prediction(0, W1, b1, W2, b2)\n",
    "test_prediction(1, W1, b1, W2, b2)\n",
    "test_prediction(2, W1, b1, W2, b2)\n",
    "test_prediction(3, W1, b1, W2, b2)"
   ]
  },
  {
   "cell_type": "code",
   "execution_count": 17,
   "metadata": {},
   "outputs": [
    {
     "name": "stdout",
     "output_type": "stream",
     "text": [
      "[2 9 1 9 0 6 3 4 7 2 8 9 4 4 6 0 8 2 8 3 6 4 9 0 5 9 4 0 6 5 7 6 0 9 9 3 2\n",
      " 0 1 4 6 2 4 2 4 7 1 9 5 1 4 2 3 0 4 4 5 0 2 4 7 6 0 3 7 4 0 2 3 3 8 3 5 4\n",
      " 2 1 9 8 0 2 0 0 1 4 7 1 9 5 3 1 6 8 0 7 2 3 1 4 3 9 4 4 4 4 9 3 6 3 7 6 4\n",
      " 9 5 6 9 9 9 7 4 1 4 7 8 5 1 5 4 3 5 4 3 7 8 9 6 7 3 1 8 0 0 5 3 7 8 6 7 7\n",
      " 0 4 0 5 1 1 0 9 6 8 0 6 3 0 7 3 1 0 5 3 8 8 9 4 3 9 3 2 1 6 1 2 2 2 4 0 6\n",
      " 4 9 6 7 8 5 1 0 8 1 3 5 9 3 0 7 5 9 1 3 5 0 1 0 9 9 5 8 5 1 1 1 9 8 2 9 0\n",
      " 1 2 7 5 2 3 3 0 0 0 8 4 6 3 9 3 4 2 1 2 3 7 0 1 9 8 3 1 3 3 1 3 6 8 9 3 5\n",
      " 1 7 0 6 8 8 4 8 3 7 5 0 0 4 6 6 3 5 1 1 1 3 4 9 2 3 7 0 8 5 9 3 1 7 6 6 8\n",
      " 7 1 0 1 0 6 6 7 5 7 4 9 9 1 0 9 2 3 9 2 0 6 4 9 3 0 3 4 4 9 1 1 2 1 9 0 7\n",
      " 6 9 6 5 7 9 2 1 7 8 8 5 6 5 5 2 8 1 9 0 1 3 7 3 1 5 4 4 5 3 9 3 6 1 8 0 6\n",
      " 7 2 2 2 7 6 1 1 8 2 5 0 0 3 5 8 8 0 3 9 3 0 2 6 9 9 1 9 9 2 7 4 8 1 7 6 3\n",
      " 4 1 3 8 5 4 9 1 6 5 3 8 5 6 6 1 4 2 5 0 3 7 0 3 2 5 2 1 7 9 8 6 5 9 7 5 0\n",
      " 3 6 5 0 2 6 2 1 9 2 2 2 6 8 7 7 1 2 8 9 5 3 7 3 2 7 1 2 7 8 4 7 7 3 9 7 1\n",
      " 1 2 7 9 1 1 1 5 2 3 4 8 2 6 3 1 8 7 6 8 9 8 3 1 3 9 9 8 0 9 5 1 7 3 4 0 1\n",
      " 9 5 7 8 1 0 3 6 0 1 4 0 1 9 4 3 0 0 9 3 0 2 6 0 4 9 3 3 3 1 6 9 2 9 1 3 6\n",
      " 1 7 9 5 0 3 8 8 9 3 1 9 1 9 0 5 8 2 8 7 5 4 9 4 3 6 9 1 0 8 7 7 0 8 4 9 0\n",
      " 0 0 2 8 7 3 5 2 9 4 3 5 3 4 8 7 4 3 3 4 2 5 1 9 8 0 2 9 7 8 5 6 4 8 7 2 3\n",
      " 2 6 3 3 8 7 3 4 3 8 8 3 7 2 2 6 6 2 3 8 1 5 9 9 4 5 7 5 2 6 2 2 9 1 0 1 2\n",
      " 6 1 1 1 9 7 7 0 1 3 3 2 2 7 1 6 3 7 4 9 2 3 3 5 8 8 8 1 7 1 0 8 6 3 5 3 7\n",
      " 4 5 2 4 2 6 1 1 8 6 2 8 2 2 3 0 3 0 2 8 1 9 2 9 1 0 8 8 1 6 2 1 0 1 3 7 9\n",
      " 4 6 9 4 4 9 2 6 0 3 7 8 1 4 7 2 3 7 0 2 6 8 3 4 5 5 8 0 6 0 7 7 6 3 7 4 6\n",
      " 8 6 7 2 5 5 6 0 6 9 3 9 9 6 1 0 8 4 7 9 9 4 2 8 7 5 4 8 9 1 8 1 9 6 0 0 3\n",
      " 5 0 4 9 4 2 0 0 9 9 2 3 1 0 5 6 2 0 3 7 7 3 5 0 6 8 8 4 6 3 9 2 6 9 9 5 1\n",
      " 9 2 2 0 2 0 0 1 4 8 9 2 8 8 3 4 5 2 2 1 6 5 5 8 3 4 1 0 7 1 4 7 7 3 9 0 8\n",
      " 5 3 4 5 9 1 1 2 4 9 4 6 1 9 5 3 7 7 2 1 3 2 6 5 8 8 8 0 6 5 1 6 8 7 9 9 3\n",
      " 0 0 9 1 3 9 8 0 6 3 6 0 6 1 1 9 5 1 4 5 7 5 0 4 3 9 7 2 0 8 1 2 7 4 9 3 1\n",
      " 9 8 1 6 9 7 3 1 6 5 3 4 4 7 9 9 1 4 1 2 7 1 9 8 0 9 6 1 2 5 2 3 4 4 5 3 5\n",
      " 1] [3 9 8 9 0 6 3 4 7 2 2 9 4 4 6 0 8 2 9 3 6 4 9 0 5 9 4 0 2 5 7 6 0 3 4 3 6\n",
      " 0 9 4 6 2 6 2 4 7 1 9 5 1 4 2 3 0 4 4 5 0 2 9 7 6 0 3 7 4 0 2 5 3 8 5 5 4\n",
      " 2 1 9 5 6 2 0 0 1 7 7 1 9 3 5 1 6 4 0 7 2 8 1 4 3 5 4 4 4 9 1 3 6 3 7 6 4\n",
      " 9 5 6 9 9 9 7 4 1 4 7 8 5 1 5 5 3 3 4 3 9 3 9 6 7 1 1 8 0 0 5 3 7 4 6 7 7\n",
      " 0 4 0 5 1 1 0 9 6 8 0 6 3 0 7 5 1 0 5 3 8 8 9 4 3 9 8 2 1 6 1 2 2 2 4 5 6\n",
      " 4 4 6 0 8 5 1 0 8 1 3 5 9 3 0 7 8 9 1 3 5 0 1 0 9 9 5 8 5 1 1 1 8 8 2 9 0\n",
      " 1 2 9 3 2 8 3 7 0 0 8 4 6 0 9 3 4 2 1 2 3 7 5 1 7 1 3 1 2 3 1 3 6 8 9 3 5\n",
      " 1 7 0 6 5 8 4 2 3 7 5 0 0 4 6 6 8 5 1 1 1 3 9 9 2 3 7 3 8 8 9 3 1 7 6 2 8\n",
      " 7 1 0 1 0 4 6 7 5 7 4 9 9 1 0 9 2 1 9 8 0 6 4 9 1 0 3 4 4 9 1 1 2 1 9 0 7\n",
      " 6 9 2 3 7 9 2 1 7 8 2 5 6 5 5 2 8 1 9 0 1 8 7 3 1 8 4 4 5 3 9 9 6 1 8 0 6\n",
      " 7 8 2 2 7 6 1 1 4 2 3 0 0 1 2 8 8 0 7 8 3 0 4 6 9 9 1 9 9 2 7 4 7 1 7 6 3\n",
      " 5 1 5 9 5 4 5 1 6 5 3 1 5 6 6 1 4 4 6 0 3 7 0 3 2 5 2 9 7 9 8 6 3 4 7 5 0\n",
      " 3 6 5 0 2 6 1 1 9 2 3 2 6 8 7 7 1 2 8 7 5 3 7 3 2 7 1 2 7 5 4 7 7 3 7 7 1\n",
      " 1 3 7 3 1 1 1 5 2 3 4 8 2 2 3 1 8 7 6 3 9 5 3 1 3 9 9 4 0 9 5 1 7 3 4 0 1\n",
      " 9 5 7 5 1 0 3 6 0 1 4 0 1 9 4 3 0 0 9 8 0 2 6 0 4 9 3 3 3 1 6 7 2 9 1 3 6\n",
      " 1 7 9 5 0 3 8 8 9 5 1 9 1 9 0 5 3 2 8 7 0 4 9 6 3 2 9 1 0 8 7 7 0 8 4 7 0\n",
      " 0 0 2 8 7 5 8 2 9 4 1 3 8 4 8 3 4 3 3 8 2 5 1 9 8 0 2 9 7 8 5 6 9 8 7 2 3\n",
      " 2 6 3 3 8 7 3 4 3 8 8 3 7 2 8 6 6 2 3 1 1 5 9 9 4 5 7 5 2 6 2 2 9 8 0 1 2\n",
      " 6 1 1 1 9 7 7 0 2 3 3 2 2 7 1 6 3 7 4 4 2 3 3 5 8 8 8 1 7 1 6 8 6 3 5 8 7\n",
      " 4 0 2 4 2 6 1 1 8 6 2 8 2 2 3 0 3 0 2 8 1 9 2 9 1 0 8 9 1 6 8 1 0 1 3 7 9\n",
      " 4 6 9 4 4 9 2 2 0 8 7 8 1 4 7 8 2 9 0 2 6 3 3 4 5 8 8 0 6 0 7 7 6 3 7 4 6\n",
      " 8 6 2 2 5 3 0 0 6 9 3 9 4 6 1 5 8 4 7 9 9 4 9 8 7 5 4 8 9 1 9 1 7 6 0 0 3\n",
      " 5 0 6 9 4 2 0 0 9 7 9 3 1 0 5 6 2 0 3 7 7 3 5 0 6 8 2 7 6 3 9 2 6 9 8 5 1\n",
      " 9 2 2 0 2 0 0 1 4 8 9 5 8 5 3 4 5 2 2 1 4 5 5 8 8 4 1 0 7 1 9 7 7 3 7 5 8\n",
      " 5 3 9 8 8 1 1 2 4 9 4 6 1 9 5 3 7 7 2 1 3 2 6 9 8 8 8 0 6 5 1 6 3 7 4 9 5\n",
      " 0 0 7 2 3 9 8 0 4 9 6 0 6 1 1 9 5 1 2 5 7 5 0 2 9 9 7 2 0 2 1 2 7 4 7 2 1\n",
      " 9 8 1 6 9 4 3 1 6 5 3 4 4 7 9 9 8 4 1 2 7 1 7 8 0 9 6 1 2 8 2 3 4 4 5 8 5\n",
      " 7]\n"
     ]
    },
    {
     "data": {
      "text/plain": [
       "0.83"
      ]
     },
     "execution_count": 17,
     "metadata": {},
     "output_type": "execute_result"
    }
   ],
   "source": [
    "dev_predictions = make_predictions(X_dev, W1, b1, W2, b2)\n",
    "get_accuracy(dev_predictions, Y_dev)"
   ]
  },
  {
   "cell_type": "code",
   "execution_count": 18,
   "metadata": {},
   "outputs": [],
   "source": [
    "def display_wrong_predictions(X, Y, predictions, W1, b1, W2, b2, num_samples=5):\n",
    "    wrong_indices = np.where(predictions != Y)[0]  # Find where predictions don't match the actual labels\n",
    "    displayed = 0\n",
    "    \n",
    "    for index in wrong_indices:\n",
    "        if displayed >= num_samples:  # Limit the number of displayed images to num_samples\n",
    "            break\n",
    "\n",
    "        current_image = X[:, index, None]\n",
    "        predicted_label = predictions[index]\n",
    "        actual_label = Y[index]\n",
    "\n",
    "        print(\"Predicted Label:\", predicted_label)\n",
    "        print(\"Actual Label:\", actual_label)\n",
    "\n",
    "        current_image = current_image.reshape((28, 28)) * 255\n",
    "        plt.gray()\n",
    "        plt.imshow(current_image, interpolation='nearest')\n",
    "        plt.show()\n",
    "\n",
    "        displayed += 1"
   ]
  },
  {
   "cell_type": "code",
   "execution_count": 19,
   "metadata": {},
   "outputs": [
    {
     "name": "stdout",
     "output_type": "stream",
     "text": [
      "Predicted Label: 2\n",
      "Actual Label: 3\n"
     ]
    },
    {
     "data": {
      "image/png": "[encoded data removed]",
      "text/plain": [
       "<Figure size 640x480 with 1 Axes>"
      ]
     },
     "metadata": {},
     "output_type": "display_data"
    },
    {
     "name": "stdout",
     "output_type": "stream",
     "text": [
      "Predicted Label: 1\n",
      "Actual Label: 8\n"
     ]
    },
    {
     "data": {
      "image/png": "[encoded data removed]",
      "text/plain": [
       "<Figure size 640x480 with 1 Axes>"
      ]
     },
     "metadata": {},
     "output_type": "display_data"
    },
    {
     "name": "stdout",
     "output_type": "stream",
     "text": [
      "Predicted Label: 8\n",
      "Actual Label: 2\n"
     ]
    },
    {
     "data": {
      "image/png": "[encoded data removed]",
      "text/plain": [
       "<Figure size 640x480 with 1 Axes>"
      ]
     },
     "metadata": {},
     "output_type": "display_data"
    },
    {
     "name": "stdout",
     "output_type": "stream",
     "text": [
      "Predicted Label: 8\n",
      "Actual Label: 9\n"
     ]
    },
    {
     "data": {
      "image/png": "[encoded data removed]",
      "text/plain": [
       "<Figure size 640x480 with 1 Axes>"
      ]
     },
     "metadata": {},
     "output_type": "display_data"
    },
    {
     "name": "stdout",
     "output_type": "stream",
     "text": [
      "Predicted Label: 6\n",
      "Actual Label: 2\n"
     ]
    },
    {
     "data": {
      "image/png": "[encoded data removed]",
      "text/plain": [
       "<Figure size 640x480 with 1 Axes>"
      ]
     },
     "metadata": {},
     "output_type": "display_data"
    }
   ],
   "source": [
    "display_wrong_predictions(X_dev, Y_dev, dev_predictions, W1, b1, W2, b2)"
   ]
  },
  {
   "cell_type": "code",
   "execution_count": 20,
   "metadata": {},
   "outputs": [],
   "source": [
    "def predict_on_new_image(image_path, W1, b1, W2, b2):\n",
    "    # Load the image\n",
    "    image = Image.open(image_path).convert(\"L\")  # Convert image to grayscale\n",
    "    image = image.resize((28, 28))  # Resize image to match input size\n",
    "    \n",
    "    # Convert image to numpy array and normalize\n",
    "    image_arr = np.array(image) / 255.0\n",
    "    \n",
    "    # Reshape the image to be a flat vector and then a column vector\n",
    "    image_arr = image_arr.reshape((-1, 1))\n",
    "    \n",
    "    # Predict\n",
    "    prediction = make_predictions(image_arr, W1, b1, W2, b2)\n",
    "    \n",
    "    # Display the image\n",
    "    plt.gray()\n",
    "    plt.imshow(np.array(image), interpolation='nearest')\n",
    "    plt.title(f\"Predicted Label: {prediction[0]}\")\n",
    "    plt.show()\n",
    "\n",
    "    return prediction[0]"
   ]
  },
  {
   "cell_type": "code",
   "execution_count": 33,
   "metadata": {},
   "outputs": [
    {
     "data": {
      "image/png": "[encoded data removed]",
      "text/plain": [
       "<Figure size 640x480 with 1 Axes>"
      ]
     },
     "metadata": {},
     "output_type": "display_data"
    },
    {
     "data": {
      "text/plain": [
       "3"
      ]
     },
     "execution_count": 33,
     "metadata": {},
     "output_type": "execute_result"
    }
   ],
   "source": [
    "image_path = \"../data/2_black.png\"\n",
    "predict_on_new_image(image_path, W1, b1, W2, b2)"
   ]
  }
 ],
 "metadata": {
  "kernelspec": {
   "display_name": "Python 3",
   "language": "python",
   "name": "python3"
  },
  "language_info": {
   "codemirror_mode": {
    "name": "ipython",
    "version": 3
   },
   "file_extension": ".py",
   "mimetype": "text/x-python",
   "name": "python",
   "nbconvert_exporter": "python",
   "pygments_lexer": "ipython3",
   "version": "3.11.5"
  }
 },
 "nbformat": 4,
 "nbformat_minor": 2
}
