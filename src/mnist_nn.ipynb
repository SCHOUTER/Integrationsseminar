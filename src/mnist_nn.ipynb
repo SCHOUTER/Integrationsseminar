{
 "cells": [
  {
   "cell_type": "code",
   "execution_count": 13,
   "metadata": {},
   "outputs": [],
   "source": [
    "import numpy as np\n",
    "import pandas as pd\n",
    "from matplotlib import pyplot as plt\n",
    "\n",
    "data = pd.read_csv('../data/train.csv')"
   ]
  },
  {
   "cell_type": "markdown",
   "metadata": {},
   "source": [
    "Import relevant libraries and read data"
   ]
  },
  {
   "cell_type": "code",
   "execution_count": 14,
   "metadata": {},
   "outputs": [],
   "source": [
    "data = np.array(data)\n",
    "m, n = data.shape\n",
    "np.random.shuffle(data) # shuffle before splitting into dev and training sets"
   ]
  },
  {
   "cell_type": "markdown",
   "metadata": {},
   "source": [
    "Convert dataset in to numpy array. Then shuffle the data to ensure randomness for training"
   ]
  },
  {
   "cell_type": "code",
   "execution_count": 15,
   "metadata": {},
   "outputs": [],
   "source": [
    "data_dev = data[0:1000].T\n",
    "Y_dev = data_dev[0]\n",
    "X_dev = data_dev[1:n]\n",
    "X_dev = X_dev / 255.\n",
    "\n",
    "data_train = data[1000:m].T\n",
    "Y_train = data_train[0]\n",
    "X_train = data_train[1:n]\n",
    "X_train = X_train / 255. # feature normalization\n",
    "_,m_train = X_train.shape"
   ]
  },
  {
   "cell_type": "markdown",
   "metadata": {},
   "source": [
    "Here, the dataset is split into a development (dev) set and a training set. The data is also transposed to fit the neural network's expected input shape. Finally, pixel values are normalized by dividing by 255, making them range between 0 and 1. This normalization is essential for training stability and faster convergence."
   ]
  },
  {
   "cell_type": "code",
   "execution_count": 16,
   "metadata": {},
   "outputs": [
    {
     "data": {
      "text/plain": [
       "array([3, 9, 5, ..., 1, 2, 0], dtype=int64)"
      ]
     },
     "execution_count": 16,
     "metadata": {},
     "output_type": "execute_result"
    }
   ],
   "source": [
    "Y_train"
   ]
  },
  {
   "cell_type": "code",
   "execution_count": 17,
   "metadata": {},
   "outputs": [],
   "source": [
    "def init_params():\n",
    "    W1 = np.random.rand(10, 784) - 0.5\n",
    "    b1 = np.random.rand(10, 1) - 0.5\n",
    "    W2 = np.random.rand(10, 10) - 0.5\n",
    "    b2 = np.random.rand(10, 1) - 0.5\n",
    "    return W1, b1, W2, b2"
   ]
  },
  {
   "cell_type": "markdown",
   "metadata": {},
   "source": [
    "This function initializes the weights (W1, W2) and biases (b1, b2) of our neural network. Initialization is important as it affects the starting point of our optimization."
   ]
  },
  {
   "cell_type": "code",
   "execution_count": 18,
   "metadata": {},
   "outputs": [],
   "source": [
    "def ReLU(Z):\n",
    "    return np.maximum(Z, 0)\n",
    "\n",
    "def softmax(Z):\n",
    "    A = np.exp(Z) / sum(np.exp(Z))\n",
    "    return A"
   ]
  },
  {
   "cell_type": "markdown",
   "metadata": {},
   "source": [
    "These are activation functions:\n",
    "\n",
    "    - ReLU (Rectified Linear Unit) is a commonly used activation function for hidden layers. It's computationally efficient and helps tackle vanishing gradient problems.\n",
    "\n",
    "    - softmax is used in the output layer for multi-class classification problems. It converts raw score outputs into probabilities for each class."
   ]
  },
  {
   "cell_type": "code",
   "execution_count": 19,
   "metadata": {},
   "outputs": [],
   "source": [
    "def forward_prop(W1, b1, W2, b2, X):\n",
    "    Z1 = W1.dot(X) + b1\n",
    "    A1 = ReLU(Z1)\n",
    "    Z2 = W2.dot(A1) + b2\n",
    "    A2 = softmax(Z2)\n",
    "    return Z1, A1, Z2, A2"
   ]
  },
  {
   "cell_type": "markdown",
   "metadata": {},
   "source": [
    "This function computes the forward pass of the network. Given an input X, it calculates intermediate values (Z1, A1, Z2) and the final output A2. This is where our network makes its predictions based on its current weights and biases."
   ]
  },
  {
   "cell_type": "code",
   "execution_count": 20,
   "metadata": {},
   "outputs": [],
   "source": [
    "def ReLU_deriv(Z):\n",
    "    return Z > 0\n",
    "\n",
    "def one_hot(Y):\n",
    "    one_hot_Y = np.zeros((Y.size, Y.max() + 1))\n",
    "    one_hot_Y[np.arange(Y.size), Y] = 1\n",
    "    one_hot_Y = one_hot_Y.T\n",
    "    return one_hot_Y"
   ]
  },
  {
   "cell_type": "code",
   "execution_count": 21,
   "metadata": {},
   "outputs": [],
   "source": [
    "def backward_prop(Z1, A1, Z2, A2, W1, W2, X, Y, m):\n",
    "    one_hot_Y = one_hot(Y)\n",
    "    dZ2 = A2 - one_hot_Y\n",
    "    dW2 = 1 / m * dZ2.dot(A1.T)\n",
    "    db2 = 1 / m * np.sum(dZ2)\n",
    "    dZ1 = W2.T.dot(dZ2) * ReLU_deriv(Z1)\n",
    "    dW1 = 1 / m * dZ1.dot(X.T)\n",
    "    db1 = 1 / m * np.sum(dZ1)\n",
    "    return dW1, db1, dW2, db2"
   ]
  },
  {
   "cell_type": "markdown",
   "metadata": {},
   "source": [
    "Backward propagation calculates how much each weight and bias contributed to the error. The returned values (dW1, db1, dW2, db2) represent gradients, showing the direction and magnitude of changes needed to reduce the error."
   ]
  },
  {
   "cell_type": "code",
   "execution_count": 22,
   "metadata": {},
   "outputs": [],
   "source": [
    "def update_params(W1, b1, W2, b2, dW1, db1, dW2, db2, alpha):\n",
    "    W1 = W1 - alpha * dW1\n",
    "    b1 = b1 - alpha * db1    \n",
    "    W2 = W2 - alpha * dW2  \n",
    "    b2 = b2 - alpha * db2    \n",
    "    return W1, b1, W2, b2"
   ]
  },
  {
   "cell_type": "markdown",
   "metadata": {},
   "source": [
    "This function updates the network's weights and biases in the direction of the negative gradient. This iterative process helps the network learn from its mistakes. alpha is the learning rate, which determines the step size of each update."
   ]
  },
  {
   "cell_type": "code",
   "execution_count": 23,
   "metadata": {},
   "outputs": [],
   "source": [
    "def get_predictions(A2):\n",
    "    return np.argmax(A2, 0)\n",
    "\n",
    "def get_accuracy(predictions, Y):\n",
    "    print(predictions, Y)\n",
    "    return np.sum(predictions == Y) / Y.size"
   ]
  },
  {
   "cell_type": "code",
   "execution_count": 24,
   "metadata": {},
   "outputs": [],
   "source": [
    "def gradient_descent(X, Y, alpha, iterations):\n",
    "    W1, b1, W2, b2 = init_params()\n",
    "    for i in range(iterations):\n",
    "        Z1, A1, Z2, A2 = forward_prop(W1, b1, W2, b2, X)\n",
    "        dW1, db1, dW2, db2 = backward_prop(Z1, A1, Z2, A2, W1, W2, X, Y, m_train)\n",
    "        W1, b1, W2, b2 = update_params(W1, b1, W2, b2, dW1, db1, dW2, db2, alpha)\n",
    "        if i % 10 == 0:\n",
    "            print(\"Iteration: \", i)\n",
    "            predictions = get_predictions(A2)\n",
    "            print(get_accuracy(predictions, Y))\n",
    "    return W1, b1, W2, b2"
   ]
  },
  {
   "cell_type": "markdown",
   "metadata": {},
   "source": [
    "This function is the training loop. It combines forward propagation, backward propagation, and the update step for a specified number of iterations. As the network trains, it prints out its accuracy on the training data every 10 iterations."
   ]
  },
  {
   "cell_type": "code",
   "execution_count": 25,
   "metadata": {},
   "outputs": [
    {
     "name": "stdout",
     "output_type": "stream",
     "text": [
      "Iteration:  0\n",
      "[8 8 1 ... 1 8 1] [3 9 5 ... 1 2 0]\n",
      "0.1151219512195122\n"
     ]
    },
    {
     "name": "stdout",
     "output_type": "stream",
     "text": [
      "Iteration:  10\n",
      "[4 3 4 ... 1 3 0] [3 9 5 ... 1 2 0]\n",
      "0.23358536585365855\n",
      "Iteration:  20\n",
      "[4 3 4 ... 1 3 0] [3 9 5 ... 1 2 0]\n",
      "0.350780487804878\n",
      "Iteration:  30\n",
      "[4 3 4 ... 1 3 0] [3 9 5 ... 1 2 0]\n",
      "0.4258292682926829\n",
      "Iteration:  40\n",
      "[4 8 3 ... 1 3 0] [3 9 5 ... 1 2 0]\n",
      "0.47412195121951217\n",
      "Iteration:  50\n",
      "[5 4 3 ... 1 8 0] [3 9 5 ... 1 2 0]\n",
      "0.5204390243902439\n",
      "Iteration:  60\n",
      "[5 9 3 ... 1 8 0] [3 9 5 ... 1 2 0]\n",
      "0.5617560975609757\n",
      "Iteration:  70\n",
      "[5 9 8 ... 1 8 0] [3 9 5 ... 1 2 0]\n",
      "0.5958048780487805\n",
      "Iteration:  80\n",
      "[5 9 8 ... 1 8 0] [3 9 5 ... 1 2 0]\n",
      "0.6205365853658537\n",
      "Iteration:  90\n",
      "[5 9 8 ... 1 8 0] [3 9 5 ... 1 2 0]\n",
      "0.643\n",
      "Iteration:  100\n",
      "[5 9 8 ... 1 8 0] [3 9 5 ... 1 2 0]\n",
      "0.6604390243902439\n",
      "Iteration:  110\n",
      "[5 9 8 ... 1 8 0] [3 9 5 ... 1 2 0]\n",
      "0.6760243902439025\n",
      "Iteration:  120\n",
      "[5 9 8 ... 1 2 0] [3 9 5 ... 1 2 0]\n",
      "0.6900487804878048\n",
      "Iteration:  130\n",
      "[5 9 8 ... 1 2 0] [3 9 5 ... 1 2 0]\n",
      "0.7022926829268292\n",
      "Iteration:  140\n",
      "[5 9 8 ... 1 2 0] [3 9 5 ... 1 2 0]\n",
      "0.7138292682926829\n",
      "Iteration:  150\n",
      "[5 9 8 ... 1 2 0] [3 9 5 ... 1 2 0]\n",
      "0.7233170731707317\n",
      "Iteration:  160\n",
      "[5 9 5 ... 1 2 0] [3 9 5 ... 1 2 0]\n",
      "0.7324634146341463\n",
      "Iteration:  170\n",
      "[5 9 5 ... 1 2 0] [3 9 5 ... 1 2 0]\n",
      "0.74\n",
      "Iteration:  180\n",
      "[5 9 5 ... 1 2 0] [3 9 5 ... 1 2 0]\n",
      "0.7483414634146341\n",
      "Iteration:  190\n",
      "[5 9 5 ... 1 2 0] [3 9 5 ... 1 2 0]\n",
      "0.7549024390243902\n",
      "Iteration:  200\n",
      "[5 9 5 ... 1 2 0] [3 9 5 ... 1 2 0]\n",
      "0.7606341463414634\n",
      "Iteration:  210\n",
      "[5 9 5 ... 1 2 0] [3 9 5 ... 1 2 0]\n",
      "0.7660487804878049\n",
      "Iteration:  220\n",
      "[5 9 5 ... 1 2 0] [3 9 5 ... 1 2 0]\n",
      "0.7717560975609756\n",
      "Iteration:  230\n",
      "[5 9 5 ... 1 2 0] [3 9 5 ... 1 2 0]\n",
      "0.7763658536585366\n",
      "Iteration:  240\n",
      "[5 9 5 ... 1 2 0] [3 9 5 ... 1 2 0]\n",
      "0.7808048780487805\n",
      "Iteration:  250\n",
      "[5 9 5 ... 1 2 0] [3 9 5 ... 1 2 0]\n",
      "0.7852439024390244\n",
      "Iteration:  260\n",
      "[5 9 5 ... 1 2 0] [3 9 5 ... 1 2 0]\n",
      "0.7899268292682927\n",
      "Iteration:  270\n",
      "[5 9 5 ... 1 2 0] [3 9 5 ... 1 2 0]\n",
      "0.7940243902439025\n",
      "Iteration:  280\n",
      "[5 9 5 ... 1 2 0] [3 9 5 ... 1 2 0]\n",
      "0.7974146341463415\n",
      "Iteration:  290\n",
      "[5 9 5 ... 1 2 0] [3 9 5 ... 1 2 0]\n",
      "0.800829268292683\n",
      "Iteration:  300\n",
      "[5 9 5 ... 1 2 0] [3 9 5 ... 1 2 0]\n",
      "0.8038780487804879\n",
      "Iteration:  310\n",
      "[5 9 5 ... 1 2 0] [3 9 5 ... 1 2 0]\n",
      "0.8067073170731708\n",
      "Iteration:  320\n",
      "[5 9 5 ... 1 2 0] [3 9 5 ... 1 2 0]\n",
      "0.8095853658536586\n",
      "Iteration:  330\n",
      "[5 9 5 ... 1 2 0] [3 9 5 ... 1 2 0]\n",
      "0.8124146341463415\n",
      "Iteration:  340\n",
      "[5 9 5 ... 1 2 0] [3 9 5 ... 1 2 0]\n",
      "0.8151951219512195\n",
      "Iteration:  350\n",
      "[5 9 5 ... 1 2 0] [3 9 5 ... 1 2 0]\n",
      "0.8182682926829268\n",
      "Iteration:  360\n",
      "[5 9 5 ... 1 2 0] [3 9 5 ... 1 2 0]\n",
      "0.8202926829268292\n",
      "Iteration:  370\n",
      "[5 9 5 ... 1 2 0] [3 9 5 ... 1 2 0]\n",
      "0.8227317073170731\n",
      "Iteration:  380\n",
      "[5 9 5 ... 1 2 0] [3 9 5 ... 1 2 0]\n",
      "0.8249512195121951\n",
      "Iteration:  390\n",
      "[5 9 5 ... 1 2 0] [3 9 5 ... 1 2 0]\n",
      "0.8271951219512195\n",
      "Iteration:  400\n",
      "[5 9 5 ... 1 2 0] [3 9 5 ... 1 2 0]\n",
      "0.8295609756097561\n",
      "Iteration:  410\n",
      "[5 9 5 ... 1 2 0] [3 9 5 ... 1 2 0]\n",
      "0.8312195121951219\n",
      "Iteration:  420\n",
      "[5 9 5 ... 1 2 0] [3 9 5 ... 1 2 0]\n",
      "0.8331463414634146\n",
      "Iteration:  430\n",
      "[5 9 5 ... 1 2 0] [3 9 5 ... 1 2 0]\n",
      "0.8347560975609756\n",
      "Iteration:  440\n",
      "[5 9 5 ... 1 2 0] [3 9 5 ... 1 2 0]\n",
      "0.8363170731707317\n",
      "Iteration:  450\n",
      "[5 9 5 ... 1 2 0] [3 9 5 ... 1 2 0]\n",
      "0.8381951219512195\n",
      "Iteration:  460\n",
      "[5 9 5 ... 1 2 0] [3 9 5 ... 1 2 0]\n",
      "0.84\n",
      "Iteration:  470\n",
      "[5 9 5 ... 1 2 0] [3 9 5 ... 1 2 0]\n",
      "0.841\n",
      "Iteration:  480\n",
      "[5 9 5 ... 1 2 0] [3 9 5 ... 1 2 0]\n",
      "0.842170731707317\n",
      "Iteration:  490\n",
      "[5 9 5 ... 1 2 0] [3 9 5 ... 1 2 0]\n",
      "0.8435609756097561\n"
     ]
    }
   ],
   "source": [
    "W1, b1, W2, b2 = gradient_descent(X_train, Y_train, 0.10, 500)"
   ]
  },
  {
   "cell_type": "code",
   "execution_count": 26,
   "metadata": {},
   "outputs": [],
   "source": [
    "def make_predictions(X, W1, b1, W2, b2):\n",
    "    _, _, _, A2 = forward_prop(W1, b1, W2, b2, X)\n",
    "    predictions = get_predictions(A2)\n",
    "    return predictions\n",
    "\n",
    "def test_prediction(index, W1, b1, W2, b2):\n",
    "    current_image = X_train[:, index, None]\n",
    "    prediction = make_predictions(X_train[:, index, None], W1, b1, W2, b2)\n",
    "    label = Y_train[index]\n",
    "    print(\"Prediction: \", prediction)\n",
    "    print(\"Label: \", label)\n",
    "    \n",
    "    current_image = current_image.reshape((28, 28)) * 255\n",
    "    plt.gray()\n",
    "    plt.imshow(current_image, interpolation='nearest')\n",
    "    plt.show()"
   ]
  },
  {
   "cell_type": "code",
   "execution_count": 27,
   "metadata": {},
   "outputs": [
    {
     "name": "stdout",
     "output_type": "stream",
     "text": [
      "Prediction:  [5]\n",
      "Label:  3\n"
     ]
    },
    {
     "data": {
      "image/png": "[encoded data removed]",
      "text/plain": [
       "<Figure size 640x480 with 1 Axes>"
      ]
     },
     "metadata": {},
     "output_type": "display_data"
    },
    {
     "name": "stdout",
     "output_type": "stream",
     "text": [
      "Prediction:  [9]\n",
      "Label:  9\n"
     ]
    },
    {
     "data": {
      "image/png": "[encoded data removed]",
      "text/plain": [
       "<Figure size 640x480 with 1 Axes>"
      ]
     },
     "metadata": {},
     "output_type": "display_data"
    },
    {
     "name": "stdout",
     "output_type": "stream",
     "text": [
      "Prediction:  [5]\n",
      "Label:  5\n"
     ]
    },
    {
     "data": {
      "image/png": "[encoded data removed]",
      "text/plain": [
       "<Figure size 640x480 with 1 Axes>"
      ]
     },
     "metadata": {},
     "output_type": "display_data"
    },
    {
     "name": "stdout",
     "output_type": "stream",
     "text": [
      "Prediction:  [9]\n",
      "Label:  9\n"
     ]
    },
    {
     "data": {
      "image/png": "[encoded data removed]",
      "text/plain": [
       "<Figure size 640x480 with 1 Axes>"
      ]
     },
     "metadata": {},
     "output_type": "display_data"
    }
   ],
   "source": [
    "test_prediction(0, W1, b1, W2, b2)\n",
    "test_prediction(1, W1, b1, W2, b2)\n",
    "test_prediction(2, W1, b1, W2, b2)\n",
    "test_prediction(3, W1, b1, W2, b2)"
   ]
  },
  {
   "cell_type": "code",
   "execution_count": 28,
   "metadata": {},
   "outputs": [
    {
     "name": "stdout",
     "output_type": "stream",
     "text": [
      "[2 6 1 8 2 2 1 4 8 6 2 3 4 0 5 8 8 8 6 7 0 7 7 1 5 8 6 4 7 5 9 6 4 6 6 7 5\n",
      " 1 8 3 3 2 7 0 9 7 4 8 4 5 4 8 2 9 4 5 8 0 9 6 0 7 9 1 1 4 4 4 8 8 6 9 3 8\n",
      " 0 7 0 5 4 7 1 9 9 9 3 7 8 5 5 1 3 4 8 3 2 7 2 6 0 9 0 1 4 8 8 8 4 7 0 8 2\n",
      " 8 4 4 0 2 1 6 1 6 0 8 7 8 4 3 8 3 9 1 7 5 3 9 8 4 1 7 2 3 7 0 3 3 5 2 7 2\n",
      " 5 9 2 1 1 6 1 5 0 3 4 2 4 9 6 9 5 4 2 0 4 7 1 8 5 7 3 4 1 2 1 8 0 0 2 5 7\n",
      " 2 7 1 6 4 3 4 7 9 1 4 0 4 6 4 9 2 4 0 8 1 6 4 5 2 7 1 3 2 4 0 9 7 1 4 3 3\n",
      " 8 1 5 7 2 8 9 7 5 4 0 0 7 9 4 8 7 6 2 2 0 3 4 4 8 2 3 6 0 2 1 9 7 3 8 5 7\n",
      " 4 1 1 2 7 9 4 1 1 0 5 6 7 2 2 7 5 4 5 0 2 7 0 1 2 1 1 1 1 1 6 1 7 5 3 4 9\n",
      " 1 8 9 1 8 9 4 7 4 5 1 8 4 6 1 3 0 9 7 1 5 2 4 0 9 6 7 6 6 3 3 2 3 6 5 6 3\n",
      " 9 2 1 3 9 6 9 2 7 6 6 3 3 3 6 6 3 4 3 4 4 6 1 2 3 5 4 0 6 2 4 3 8 6 2 9 2\n",
      " 9 2 2 4 6 7 4 2 2 2 4 7 5 2 9 5 0 1 6 1 8 9 4 2 5 7 5 7 4 7 8 6 5 9 4 4 6\n",
      " 9 6 8 5 6 3 8 8 5 8 3 5 4 9 0 0 3 2 6 5 1 0 6 7 9 6 1 7 1 1 5 5 3 6 5 0 4\n",
      " 4 4 6 1 8 2 2 6 7 4 1 3 5 9 1 8 6 8 0 4 1 6 9 1 6 3 4 8 6 1 3 2 2 0 0 4 9\n",
      " 4 0 7 5 9 6 6 4 9 8 1 2 2 9 4 1 0 3 9 7 7 1 2 3 9 1 9 3 7 3 4 4 1 4 2 9 0\n",
      " 2 5 4 6 3 5 1 2 4 6 5 4 6 9 1 7 9 6 3 5 6 5 8 3 7 7 9 9 0 5 8 6 2 1 6 7 6\n",
      " 8 0 4 8 4 0 7 9 7 3 6 6 9 0 6 9 7 8 2 3 7 3 0 4 9 5 6 3 1 8 5 2 4 7 0 3 2\n",
      " 1 4 4 4 8 8 2 7 2 1 8 7 9 0 7 3 6 7 0 6 0 9 5 9 1 2 4 4 0 4 1 8 4 1 1 7 6\n",
      " 2 1 0 2 8 0 3 5 9 9 7 1 0 7 6 1 6 4 3 7 9 7 1 8 8 1 0 8 7 5 7 5 5 3 3 6 8\n",
      " 5 7 3 4 6 5 0 7 9 1 9 0 5 9 8 2 9 7 0 6 0 6 1 9 5 6 9 6 4 9 2 6 4 7 1 7 3\n",
      " 4 4 8 3 0 2 7 6 1 5 4 7 7 7 5 9 0 7 6 2 5 0 5 5 1 9 5 0 9 6 8 5 0 5 6 4 9\n",
      " 9 5 1 7 8 0 9 9 4 9 6 3 6 0 8 7 7 6 7 8 2 5 0 8 5 3 2 7 7 0 4 4 3 0 6 7 7\n",
      " 0 1 8 7 0 7 6 2 4 9 4 2 4 7 9 3 7 3 4 0 3 3 9 5 9 8 9 1 3 7 2 7 1 8 0 4 0\n",
      " 4 4 6 8 5 6 8 9 9 0 7 0 4 8 8 7 7 2 9 3 8 9 8 3 9 4 2 1 8 0 1 7 2 1 7 6 4\n",
      " 7 9 4 2 9 4 3 1 7 0 6 6 2 1 5 3 6 2 7 1 8 6 7 9 1 1 6 0 1 6 3 0 7 8 1 9 9\n",
      " 4 9 7 3 6 7 0 9 9 6 8 7 2 2 6 2 3 9 3 3 0 9 6 4 4 2 2 2 1 0 5 7 6 7 7 6 2\n",
      " 0 5 3 9 8 8 9 2 7 6 0 1 7 6 8 4 0 3 4 6 0 1 1 4 1 3 9 7 0 1 7 7 4 5 2 9 9\n",
      " 4 1 5 9 3 1 3 2 0 0 1 5 0 0 2 1 1 2 0 2 7 3 1 1 9 7 6 7 6 4 3 4 1 3 9 2 1\n",
      " 3] [2 6 1 8 2 2 1 4 8 6 6 3 4 0 3 5 3 8 6 7 0 7 7 1 5 3 6 4 7 5 9 6 4 6 6 7 5\n",
      " 1 8 3 3 6 7 3 9 7 4 8 4 5 4 8 2 9 4 5 8 0 7 6 0 7 9 1 1 4 4 4 5 8 6 9 3 8\n",
      " 0 9 0 5 4 9 1 9 9 9 3 7 8 5 5 1 9 4 8 3 8 7 2 6 0 7 3 1 4 3 8 8 4 7 0 8 2\n",
      " 1 4 4 0 2 1 5 1 6 0 9 7 8 4 3 8 3 7 1 7 5 2 9 2 4 1 7 2 3 7 0 8 3 5 2 7 2\n",
      " 5 7 2 8 1 6 1 5 0 3 4 7 4 3 2 9 5 4 2 0 4 7 1 8 5 7 3 4 1 2 1 1 0 0 2 5 7\n",
      " 2 3 1 6 9 2 4 7 9 1 4 0 4 6 9 9 2 2 0 5 1 2 4 5 6 7 1 5 2 4 0 9 7 1 9 3 3\n",
      " 3 1 5 7 6 5 9 7 3 4 0 0 9 9 9 8 7 6 9 2 0 2 4 8 8 2 3 6 2 2 1 9 7 3 8 5 7\n",
      " 4 1 7 2 7 4 8 1 1 0 5 6 7 2 2 7 5 6 5 0 1 7 0 2 4 1 1 1 7 8 6 1 7 3 5 4 7\n",
      " 1 8 9 1 8 9 4 9 4 5 1 8 4 6 1 3 0 9 7 1 5 2 4 0 9 6 7 6 6 3 8 2 2 4 5 6 5\n",
      " 8 2 7 3 9 6 9 2 7 6 6 3 3 3 6 6 3 4 3 4 4 6 1 9 5 5 9 0 6 7 4 3 8 0 7 9 2\n",
      " 9 2 2 4 6 7 4 2 2 6 4 7 5 2 9 5 0 1 6 1 8 9 4 2 5 9 5 7 4 7 8 6 5 9 4 4 6\n",
      " 9 6 8 8 6 9 8 5 5 8 3 5 9 9 0 0 3 2 6 0 1 0 6 7 9 6 1 7 1 1 3 5 3 0 5 0 7\n",
      " 6 4 6 1 8 2 2 6 7 4 1 3 5 9 1 8 4 5 0 4 1 6 9 1 5 5 4 8 6 1 3 2 2 0 0 4 9\n",
      " 4 0 7 5 9 6 6 4 9 9 5 2 2 9 4 1 0 3 9 7 7 1 2 3 9 1 9 3 7 3 4 4 5 4 2 9 3\n",
      " 2 5 4 6 0 5 1 2 4 6 5 4 6 8 1 3 9 6 5 5 6 2 8 3 7 9 9 9 0 5 8 6 5 1 6 2 6\n",
      " 8 0 4 8 4 3 7 7 2 3 6 8 9 0 6 9 7 8 8 3 7 3 0 9 9 6 6 3 1 8 0 2 4 7 0 3 2\n",
      " 1 4 4 4 8 8 2 7 2 1 3 9 9 0 7 3 6 7 0 6 0 4 5 9 1 2 9 9 0 4 1 8 4 2 1 7 6\n",
      " 3 2 0 3 2 5 3 5 4 9 5 1 0 7 6 1 9 4 8 7 3 7 1 9 8 1 0 8 7 5 7 5 5 3 3 6 5\n",
      " 5 7 3 9 6 5 0 7 9 1 9 0 5 9 8 2 7 7 0 6 0 6 1 9 5 6 9 6 4 9 2 6 4 7 1 7 3\n",
      " 4 4 8 5 0 2 9 6 1 5 4 7 7 7 5 9 0 7 6 2 5 0 5 5 1 9 5 0 9 6 8 5 0 5 6 4 9\n",
      " 9 5 1 9 8 0 9 9 4 9 6 3 6 0 8 7 7 6 7 8 2 5 0 8 5 3 2 7 9 0 4 4 3 0 6 7 7\n",
      " 0 1 8 9 0 7 6 8 5 9 4 2 4 7 9 3 7 3 4 0 3 5 8 5 7 8 9 1 3 7 8 7 1 5 8 4 0\n",
      " 4 4 6 8 5 6 5 9 9 0 7 0 4 8 8 2 7 2 4 3 8 9 8 3 9 4 2 1 8 0 1 7 2 1 7 6 4\n",
      " 7 4 4 2 9 4 3 1 7 0 6 6 2 1 6 2 6 2 7 1 8 4 7 9 1 1 6 0 1 6 3 0 3 8 1 7 9\n",
      " 4 9 7 2 6 4 0 9 9 6 8 7 2 2 2 2 3 9 3 3 0 9 3 4 4 2 8 2 1 0 5 7 6 7 7 6 2\n",
      " 0 6 3 9 8 3 9 7 7 6 0 1 7 6 8 4 0 3 9 6 0 1 1 4 1 3 4 7 0 1 7 7 4 5 2 9 9\n",
      " 4 1 5 9 3 1 3 2 0 0 1 5 0 0 2 1 1 3 0 2 7 5 2 1 9 7 6 7 6 4 3 4 1 3 9 2 1\n",
      " 3]\n"
     ]
    },
    {
     "data": {
      "text/plain": [
       "0.836"
      ]
     },
     "execution_count": 28,
     "metadata": {},
     "output_type": "execute_result"
    }
   ],
   "source": [
    "dev_predictions = make_predictions(X_dev, W1, b1, W2, b2)\n",
    "get_accuracy(dev_predictions, Y_dev)"
   ]
  },
  {
   "cell_type": "code",
   "execution_count": 29,
   "metadata": {},
   "outputs": [],
   "source": [
    "def display_wrong_predictions(X, Y, predictions, W1, b1, W2, b2, num_samples=5):\n",
    "    wrong_indices = np.where(predictions != Y)[0]  # Find where predictions don't match the actual labels\n",
    "    displayed = 0\n",
    "    \n",
    "    for index in wrong_indices:\n",
    "        if displayed >= num_samples:  # Limit the number of displayed images to num_samples\n",
    "            break\n",
    "\n",
    "        current_image = X[:, index, None]\n",
    "        predicted_label = predictions[index]\n",
    "        actual_label = Y[index]\n",
    "\n",
    "        print(\"Predicted Label:\", predicted_label)\n",
    "        print(\"Actual Label:\", actual_label)\n",
    "\n",
    "        current_image = current_image.reshape((28, 28)) * 255\n",
    "        plt.gray()\n",
    "        plt.imshow(current_image, interpolation='nearest')\n",
    "        plt.show()\n",
    "\n",
    "        displayed += 1"
   ]
  },
  {
   "cell_type": "code",
   "execution_count": 30,
   "metadata": {},
   "outputs": [
    {
     "name": "stdout",
     "output_type": "stream",
     "text": [
      "Predicted Label: 2\n",
      "Actual Label: 6\n"
     ]
    },
    {
     "data": {
      "image/png": "[encoded data removed]",
      "text/plain": [
       "<Figure size 640x480 with 1 Axes>"
      ]
     },
     "metadata": {},
     "output_type": "display_data"
    },
    {
     "name": "stdout",
     "output_type": "stream",
     "text": [
      "Predicted Label: 5\n",
      "Actual Label: 3\n"
     ]
    },
    {
     "data": {
      "image/png": "[encoded data removed]",
      "text/plain": [
       "<Figure size 640x480 with 1 Axes>"
      ]
     },
     "metadata": {},
     "output_type": "display_data"
    },
    {
     "name": "stdout",
     "output_type": "stream",
     "text": [
      "Predicted Label: 8\n",
      "Actual Label: 5\n"
     ]
    },
    {
     "data": {
      "image/png": "[encoded data removed]",
      "text/plain": [
       "<Figure size 640x480 with 1 Axes>"
      ]
     },
     "metadata": {},
     "output_type": "display_data"
    },
    {
     "name": "stdout",
     "output_type": "stream",
     "text": [
      "Predicted Label: 8\n",
      "Actual Label: 3\n"
     ]
    },
    {
     "data": {
      "image/png": "[encoded data removed]",
      "text/plain": [
       "<Figure size 640x480 with 1 Axes>"
      ]
     },
     "metadata": {},
     "output_type": "display_data"
    },
    {
     "name": "stdout",
     "output_type": "stream",
     "text": [
      "Predicted Label: 8\n",
      "Actual Label: 3\n"
     ]
    },
    {
     "data": {
      "image/png": "[encoded data removed]",
      "text/plain": [
       "<Figure size 640x480 with 1 Axes>"
      ]
     },
     "metadata": {},
     "output_type": "display_data"
    }
   ],
   "source": [
    "display_wrong_predictions(X_dev, Y_dev, dev_predictions, W1, b1, W2, b2)"
   ]
  }
 ],
 "metadata": {
  "kernelspec": {
   "display_name": "Python 3",
   "language": "python",
   "name": "python3"
  },
  "language_info": {
   "codemirror_mode": {
    "name": "ipython",
    "version": 3
   },
   "file_extension": ".py",
   "mimetype": "text/x-python",
   "name": "python",
   "nbconvert_exporter": "python",
   "pygments_lexer": "ipython3",
   "version": "3.11.5"
  }
 },
 "nbformat": 4,
 "nbformat_minor": 2
}
